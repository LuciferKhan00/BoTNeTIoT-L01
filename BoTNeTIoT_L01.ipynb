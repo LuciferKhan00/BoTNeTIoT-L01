{
  "nbformat": 4,
  "nbformat_minor": 0,
  "metadata": {
    "colab": {
      "provenance": []
    },
    "kernelspec": {
      "name": "python3",
      "display_name": "Python 3"
    },
    "language_info": {
      "name": "python"
    }
  },
  "cells": [
    {
      "cell_type": "code",
      "execution_count": null,
      "metadata": {
        "id": "tx2__98FQHwi"
      },
      "outputs": [],
      "source": [
        "import numpy as np\n",
        "import pandas as pd\n",
        "from sklearn.model_selection import train_test_split\n",
        "from sklearn.linear_model import LogisticRegression\n",
        "from sklearn.tree import DecisionTreeClassifier\n",
        "from sklearn.neighbors import KNeighborsClassifier\n",
        "from sklearn.preprocessing import StandardScaler, OneHotEncoder\n",
        "from sklearn.impute import SimpleImputer\n",
        "from sklearn.compose import ColumnTransformer\n",
        "from sklearn.metrics import roc_auc_score, roc_curve, confusion_matrix\n",
        "from sklearn.pipeline import Pipeline"
      ]
    },
    {
      "cell_type": "code",
      "source": [
        "df = pd.read_csv(\"/content/drive/MyDrive/Botnet/BoTNeTIoT-L01-v2.csv\")"
      ],
      "metadata": {
        "id": "c0A39eEEQR7v"
      },
      "execution_count": null,
      "outputs": []
    },
    {
      "cell_type": "code",
      "source": [
        "df = df.loc[df['Attack'] != 'gafgyt']\n",
        "df = df.drop(columns=[\"Attack\", 'Attack_subType'])"
      ],
      "metadata": {
        "id": "cezbzR7cQbJs"
      },
      "execution_count": null,
      "outputs": []
    },
    {
      "cell_type": "code",
      "source": [
        "categorical_cols = ['Device_Name']\n",
        "numeric_cols = ['MI_dir_L0.1_weight', 'MI_dir_L0.1_mean', 'MI_dir_L0.1_variance',\n",
        "       'H_L0.1_weight', 'H_L0.1_mean', 'H_L0.1_variance', 'HH_L0.1_weight',\n",
        "       'HH_L0.1_mean', 'HH_L0.1_std', 'HH_L0.1_magnitude', 'HH_L0.1_radius',\n",
        "       'HH_L0.1_covariance', 'HH_L0.1_pcc', 'HH_jit_L0.1_weight',\n",
        "       'HH_jit_L0.1_mean', 'HH_jit_L0.1_variance', 'HpHp_L0.1_weight',\n",
        "       'HpHp_L0.1_mean', 'HpHp_L0.1_std', 'HpHp_L0.1_magnitude',\n",
        "       'HpHp_L0.1_radius', 'HpHp_L0.1_covariance', 'HpHp_L0.1_pcc']"
      ],
      "metadata": {
        "id": "ICKcRgKeQgDv"
      },
      "execution_count": null,
      "outputs": []
    },
    {
      "cell_type": "code",
      "source": [
        "df = df.drop_duplicates()\n",
        "df = df.reset_index(drop=True)"
      ],
      "metadata": {
        "id": "Ecg2tAFzZGct"
      },
      "execution_count": null,
      "outputs": []
    },
    {
      "cell_type": "code",
      "source": [
        "features = df.drop(['label'], axis=1)\n",
        "labels = df['label']"
      ],
      "metadata": {
        "id": "XnG4dNcwZI0C"
      },
      "execution_count": null,
      "outputs": []
    },
    {
      "cell_type": "code",
      "source": [
        "X_train, X_test, y_train, y_test = train_test_split(features, labels, test_size=0.2, random_state=42)"
      ],
      "metadata": {
        "id": "_hWPYdpmZKwU"
      },
      "execution_count": null,
      "outputs": []
    },
    {
      "cell_type": "code",
      "source": [
        "# Preprocessors\n",
        "preprocessor = ColumnTransformer(\n",
        "    transformers=[\n",
        "        ('num', StandardScaler(), numeric_cols),\n",
        "        ('cat', OneHotEncoder(), categorical_cols)\n",
        "    ])\n",
        "\n",
        "# Classifiers\n",
        "classifiers = {\n",
        "    'logistic_regression': LogisticRegression(max_iter=1000),\n",
        "    'decision_tree': DecisionTreeClassifier(),\n",
        "\n",
        "}\n",
        "\n",
        "# A function to choose classifiers\n",
        "def make_pipeline(classifier_key):\n",
        "    if classifier_key in classifiers:\n",
        "        clf = Pipeline(steps=[\n",
        "            ('preprocessor', preprocessor),\n",
        "            ('classifier', classifiers[classifier_key])\n",
        "        ])\n",
        "        return clf\n",
        "    else:\n",
        "        raise ValueError(f\"Classifier {classifier_key} is not defined\")"
      ],
      "metadata": {
        "id": "ojNHtjgWZLIc"
      },
      "execution_count": null,
      "outputs": []
    },
    {
      "cell_type": "code",
      "source": [
        "classifier_key = 'logistic_regression'\n",
        "pipeline = make_pipeline(classifier_key)\n",
        "pipeline.fit(X_train, y_train)\n",
        "\n",
        "# Evaluation\n",
        "predictions = pipeline.predict(X_test)\n",
        "probs = pipeline.predict_proba(X_test)[:, 1]\n",
        "auc_score = roc_auc_score(y_test, probs)\n",
        "\n",
        "print(f\"AUC Score: {auc_score}\")"
      ],
      "metadata": {
        "id": "0y2deyd6ZLK_",
        "colab": {
          "base_uri": "https://localhost:8080/"
        },
        "outputId": "602eab32-9304-40d2-8d33-2f72738030d1"
      },
      "execution_count": null,
      "outputs": [
        {
          "output_type": "stream",
          "name": "stdout",
          "text": [
            "AUC Score: 0.9999762533953419\n"
          ]
        }
      ]
    },
    {
      "cell_type": "code",
      "source": [
        "classifier_key = 'decision_tree'\n",
        "pipeline = make_pipeline(classifier_key)\n",
        "pipeline.fit(X_train, y_train)\n",
        "\n",
        "# Evaluation\n",
        "predictions = pipeline.predict(X_test)\n",
        "probs = pipeline.predict_proba(X_test)[:, 1]\n",
        "auc_score = roc_auc_score(y_test, probs)\n",
        "\n",
        "print(f\"AUC Score: {auc_score}\")"
      ],
      "metadata": {
        "id": "IGgtlU_mZLNe",
        "colab": {
          "base_uri": "https://localhost:8080/"
        },
        "outputId": "08cb4fab-f921-48d9-e733-17ba4a74bb58"
      },
      "execution_count": null,
      "outputs": [
        {
          "output_type": "stream",
          "name": "stdout",
          "text": [
            "AUC Score: 0.9999944261785977\n"
          ]
        }
      ]
    },
    {
      "cell_type": "code",
      "source": [],
      "metadata": {
        "id": "SxWmAy1TyHVS"
      },
      "execution_count": null,
      "outputs": []
    },
    {
      "cell_type": "code",
      "source": [],
      "metadata": {
        "id": "M4UvIDAE0EHP"
      },
      "execution_count": null,
      "outputs": []
    }
  ]
}